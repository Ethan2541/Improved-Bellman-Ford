{
 "cells": [
  {
   "cell_type": "markdown",
   "metadata": {},
   "source": [
    "# Improved Bellman-Ford algorithm with Maximum Violation Permutation problem\n",
    "\n",
    "## Authors: LUONG Ethan, PHAM Louis-Antoine\n",
    "\n",
    "This project aims to improve Bellman-Ford algorithm's running times by using a specific order to traverse the vertices of a given graph.\n",
    "\n",
    "In order to determine the said order, we use a greedy algorithm that successively seeks the sources, the targets, and the vertice with the largest gap in number between its successors and its ancestors, while there is still a node to study."
   ]
  },
  {
   "cell_type": "code",
   "execution_count": null,
   "metadata": {},
   "outputs": [],
   "source": [
    "from src.Graph import Graph\n",
    "from src.utils import generate_random_test_set, generate_levelled_test_set\n",
    "import matplotlib.pyplot as plt\n",
    "import numpy as np\n",
    "import random\n",
    "import time\n",
    "\n",
    "%load_ext autoreload\n",
    "%autoreload 2\n",
    "\n",
    "random.seed(123)"
   ]
  },
  {
   "cell_type": "markdown",
   "metadata": {},
   "source": [
    "### 1. Bellman-Ford Algorithm"
   ]
  },
  {
   "cell_type": "code",
   "execution_count": null,
   "metadata": {},
   "outputs": [],
   "source": [
    "nodes = range(1, 9)\n",
    "edges = [(1,2,{'weight':8}), (1,3,{'weight':1}), (2,3,{'weight':1}), (3,4,{'weight':2}), (3,5,{'weight':1}), (4,2,{'weight':3}), (4,8,{'weight':3}), (5,6,{'weight':1}), (6,4,{'weight':1}), (6,7,{'weight':1}), (6,8,{'weight':3}), (7,8,{'weight':1})]\n",
    "G1 = Graph(nodes, edges)\n",
    "G1.display()"
   ]
  },
  {
   "cell_type": "code",
   "execution_count": null,
   "metadata": {},
   "outputs": [],
   "source": [
    "shortest_paths_graph, n_iterations = G1.compute_shortest_paths(1)\n",
    "print(f'Number of iterations: {n_iterations}')\n",
    "shortest_paths_graph.display()"
   ]
  },
  {
   "cell_type": "code",
   "execution_count": null,
   "metadata": {},
   "outputs": [],
   "source": [
    "nodes = range(0, 11)\n",
    "edges = [(0,1,{'weight':7}), (0,2,{'weight':6}), (0,3,{'weight':3}), (1,4,{'weight':2}), (2,4,{'weight':5}), (2,5,{'weight':4}), (3,5,{'weight':7}), (3,6,{'weight':3}), (4,7,{'weight':9}), (5,7,{'weight':2}), (5,8,{'weight':5}), (6,8,{'weight':2}), (6,9,{'weight':7}), (7,10,{'weight':3}), (8,10,{'weight':6}), (9,10,{'weight':4})]\n",
    "G2 = Graph(nodes, edges)\n",
    "G2.display()"
   ]
  },
  {
   "cell_type": "code",
   "execution_count": null,
   "metadata": {},
   "outputs": [],
   "source": [
    "shortest_paths_graph, n_iterations = G2.compute_shortest_paths(0)\n",
    "print(f'Number of iterations: {n_iterations}')\n",
    "shortest_paths_graph.display()"
   ]
  },
  {
   "cell_type": "markdown",
   "metadata": {},
   "source": [
    "### 2. Greedy Algorithm: GloutonFas"
   ]
  },
  {
   "cell_type": "code",
   "execution_count": null,
   "metadata": {},
   "outputs": [],
   "source": [
    "print(f'Order: {shortest_paths_graph.glouton_fas()}')"
   ]
  },
  {
   "cell_type": "code",
   "execution_count": null,
   "metadata": {},
   "outputs": [],
   "source": [
    "G2 = Graph(range(1,9), [(1,2), (1,3), (2,3), (3,4), (4,5), (4,6), (4,7), (5,7), (6,5), (6,8), (7,1), (8,2), (8,3)])\n",
    "G2.display()\n",
    "print(f'Order: {G2.glouton_fas()}')"
   ]
  },
  {
   "cell_type": "markdown",
   "metadata": {},
   "source": [
    "### 3. Random Test Graphs Generation\n",
    "\n",
    "We focus on creating a random graph G. From it, we should derivate 4 weighted graphs G1, G2, G3, H whose weights are randomly picked.\n",
    "\n",
    "For us to get relevant testing data, we decided to generate G as a directed acyclic graph (DAG)."
   ]
  },
  {
   "cell_type": "code",
   "execution_count": null,
   "metadata": {},
   "outputs": [],
   "source": [
    "G, weighted_graphs = generate_random_test_set(n_instances=4, n_nodes=21, weight_min=-10, weight_max=10, p_edge=0.8, mode='acyclic')\n",
    "G.display()"
   ]
  },
  {
   "cell_type": "code",
   "execution_count": null,
   "metadata": {},
   "outputs": [],
   "source": [
    "H = weighted_graphs[-1]\n",
    "H.display()"
   ]
  },
  {
   "cell_type": "markdown",
   "metadata": {},
   "source": [
    "### 4. Shortest Paths Union T"
   ]
  },
  {
   "cell_type": "code",
   "execution_count": null,
   "metadata": {},
   "outputs": [],
   "source": [
    "s = G.choose_source()\n",
    "print(f'Source: {s}\\nOut degree: {G.out_degree(s)}\\n|V|//2 = {len(G.nodes)//2}')\n",
    "shortest_paths = [graph.compute_shortest_paths(s)[0] for graph in weighted_graphs[:-1]]\n",
    "T = Graph.union(shortest_paths)\n",
    "T.display()"
   ]
  },
  {
   "cell_type": "markdown",
   "metadata": {},
   "source": [
    "### 5. Testing the Greedy Algorithm on T"
   ]
  },
  {
   "cell_type": "code",
   "execution_count": null,
   "metadata": {},
   "outputs": [],
   "source": [
    "ordered_nodes = T.glouton_fas()\n",
    "print(f'Order: {ordered_nodes}')"
   ]
  },
  {
   "cell_type": "markdown",
   "metadata": {},
   "source": [
    "### 6. Improved Bellman-Ford"
   ]
  },
  {
   "cell_type": "code",
   "execution_count": null,
   "metadata": {},
   "outputs": [],
   "source": [
    "shortest_paths_graph, n_iterations_greedy = H.compute_shortest_paths(s, ordered_nodes)\n",
    "print(f'Number of iterations: {n_iterations_greedy}')\n",
    "shortest_paths_graph.display()"
   ]
  },
  {
   "cell_type": "markdown",
   "metadata": {},
   "source": [
    "### 7. Classic Bellman-Ford Application on H"
   ]
  },
  {
   "cell_type": "code",
   "execution_count": null,
   "metadata": {},
   "outputs": [],
   "source": [
    "shortest_paths_graph, n_iterations_classic = H.compute_shortest_paths(s)\n",
    "print(f'Number of iterations: {n_iterations_classic}')\n",
    "shortest_paths_graph.display()"
   ]
  },
  {
   "cell_type": "markdown",
   "metadata": {},
   "source": [
    "### 8. Comparison with and without Pretreatment"
   ]
  },
  {
   "cell_type": "code",
   "execution_count": null,
   "metadata": {},
   "outputs": [],
   "source": [
    "if n_iterations_greedy < n_iterations_classic:\n",
    "    print(f'The greedy algorithm allows to converge faster ({n_iterations_greedy} < {n_iterations_classic})')\n",
    "elif n_iterations_greedy == n_iterations_classic:\n",
    "    print(f'The numbers of iterations are the same ({n_iterations_greedy} = {n_iterations_classic})')\n",
    "else:\n",
    "    print(f'The greedy algorithm takes longer to converge ({n_iterations_greedy} > {n_iterations_classic})')"
   ]
  },
  {
   "cell_type": "markdown",
   "metadata": {},
   "source": [
    "### 9. Large-Scale Comparisons"
   ]
  },
  {
   "cell_type": "code",
   "execution_count": null,
   "metadata": {},
   "outputs": [],
   "source": [
    "gaps = []\n",
    "\n",
    "for _ in range(100):\n",
    "    G, weighted_graphs = generate_random_test_set(n_instances=4, n_nodes=50, weight_min=-10, weight_max=10, p_edge=0.8, mode='acyclic')\n",
    "    H = weighted_graphs[-1]\n",
    "    s = G.choose_source()\n",
    "    shortest_paths = [graph.compute_shortest_paths(s)[0] for graph in weighted_graphs[:-1]]\n",
    "    T = Graph.union(shortest_paths)\n",
    "    ordered_nodes = T.glouton_fas()\n",
    "    shortest_paths_graph, n_iterations_greedy = H.compute_shortest_paths(s, ordered_nodes)\n",
    "    shortest_paths_graph, n_iterations_classic = H.compute_shortest_paths(s)\n",
    "    gaps.append(n_iterations_classic - n_iterations_greedy)\n",
    "\n",
    "gaps = np.array(gaps)\n",
    "\n",
    "plt.figure()\n",
    "labels, counts = np.unique(gaps, return_counts=True)\n",
    "plt.bar(labels, counts, align='center', width=0.2)\n",
    "plt.gca().set_xticks(labels)\n",
    "plt.xlabel('n_iterations_classic - n_iterations_greedy')\n",
    "plt.xticks([k for k in np.unique(gaps)])\n",
    "plt.ylabel('Counts')\n",
    "plt.show()"
   ]
  },
  {
   "cell_type": "markdown",
   "metadata": {},
   "source": [
    "### 10. Performances and n_instances"
   ]
  },
  {
   "cell_type": "code",
   "execution_count": null,
   "metadata": {},
   "outputs": [],
   "source": [
    "G, weighted_graphs = generate_random_test_set(n_instances=31, n_nodes=100, weight_min=-1000, weight_max=1000, p_edge=0.8, mode='acyclic')\n",
    "s = G.choose_source()\n",
    "\n",
    "H = weighted_graphs[-1]\n",
    "\n",
    "x = []\n",
    "y = []\n",
    "\n",
    "for n in range(1, 31):\n",
    "    shortest_paths = [graph.compute_shortest_paths(s)[0] for graph in weighted_graphs[:n]]\n",
    "    T = Graph.union(shortest_paths)\n",
    "    ordered_nodes = T.glouton_fas()\n",
    "    shortest_paths_graph, n_iterations_greedy = H.compute_shortest_paths(s, ordered_nodes)\n",
    "    x.append(n)\n",
    "    y.append(n_iterations_greedy)\n",
    "\n",
    "plt.figure()\n",
    "plt.plot(x, y)\n",
    "plt.xlabel('n_instances')\n",
    "plt.ylabel('n_iterations_greedy')\n",
    "plt.show()"
   ]
  },
  {
   "cell_type": "markdown",
   "metadata": {},
   "source": [
    "### 11. Case Study\n",
    "\n",
    "Let G = (V,E) be a graph with 2500 levels and 4 vertices per level. We assume that all vertices of a level j are connected to all the vertices of the next level j+1, with j in [1, 2499].\n",
    "\n",
    "The weights are integers randomly chosen between -10 and 10 with a discrete uniform distribution on this interval."
   ]
  },
  {
   "cell_type": "code",
   "execution_count": null,
   "metadata": {},
   "outputs": [],
   "source": [
    "G, weighted_graphs = generate_levelled_test_set(n_instances=4, n_levels=2500, n_nodes_per_level=4, weight_min=-10, weight_max=10)\n",
    "s = G.choose_source()\n",
    "H = weighted_graphs[-1]\n",
    "\n",
    "start_time = time.time()\n",
    "shortest_paths_graph, n_iterations_classic = H.compute_shortest_paths(s)\n",
    "end_time = time.time()\n",
    "\n",
    "running_time_classic = end_time - start_time\n",
    "print(f'Number of iterations (Classic): {n_iterations_classic}')\n",
    "print(f'Running time (Classic): {running_time_classic:.2f}s')\n",
    "\n",
    "start_time = time.time()\n",
    "shortest_paths = [graph.compute_shortest_paths(s)[0] for graph in weighted_graphs[:n]]\n",
    "T = Graph.union(shortest_paths)\n",
    "end_time = time.time()\n",
    "\n",
    "learning_time = end_time - start_time\n",
    "print(f'Learning time: {learning_time:.2f}s')\n",
    "\n",
    "start_time = time.time()\n",
    "ordered_nodes = T.glouton_fas()\n",
    "shortest_paths_graph, n_iterations_greedy = H.compute_shortest_paths(s, ordered_nodes)\n",
    "end_time = time.time()\n",
    "\n",
    "running_time_greedy = end_time - start_time\n",
    "print(f'Number of iterations (Greedy): {n_iterations_greedy}')\n",
    "print(f'Running time (Greedy): {running_time_greedy:.2f}s')"
   ]
  }
 ],
 "metadata": {
  "kernelspec": {
   "display_name": "p39",
   "language": "python",
   "name": "python3"
  },
  "language_info": {
   "codemirror_mode": {
    "name": "ipython",
    "version": 3
   },
   "file_extension": ".py",
   "mimetype": "text/x-python",
   "name": "python",
   "nbconvert_exporter": "python",
   "pygments_lexer": "ipython3",
   "version": "3.11.6"
  },
  "orig_nbformat": 4
 },
 "nbformat": 4,
 "nbformat_minor": 2
}
